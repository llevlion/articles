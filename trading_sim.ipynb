{
 "cells": [
  {
   "cell_type": "markdown",
   "metadata": {},
   "source": [
    "# Trading strategy simulation"
   ]
  },
  {
   "cell_type": "code",
   "execution_count": 15,
   "metadata": {
    "collapsed": true
   },
   "outputs": [],
   "source": [
    "import numpy as np"
   ]
  },
  {
   "cell_type": "code",
   "execution_count": 16,
   "metadata": {
    "collapsed": true
   },
   "outputs": [],
   "source": [
    "def get_simret(n=100, mu=1.001, sigma=0.01):\n",
    "    \"\"\"Create array of n of normally distibuted returns.\"\"\"\n",
    "    return np.random.normal(mu, sigma, n)\n",
    "\n",
    "def get_prices(sim, init_price=100.):\n",
    "    \"\"\"Create array of prices from array of returns\"\"\"\n",
    "    return init_price*np.cumprod(sim)"
   ]
  },
  {
   "cell_type": "code",
   "execution_count": 17,
   "metadata": {
    "collapsed": false
   },
   "outputs": [
    {
     "data": {
      "text/plain": [
       "array([ 100.68555159,  101.73523242,   99.92496709,  100.03656939,\n",
       "         99.41571173,   98.40029399,   97.79949995,   97.32100891,\n",
       "         98.77420601,   97.45339082,   97.24911399,   97.54004631,\n",
       "         97.62590507,   99.96492307,  101.03679451,   99.89866267,\n",
       "        100.38544086,  100.42442827,  100.24586119,  100.14295579,\n",
       "         99.40940698,  101.10328881,  100.84585212,  101.52013885,\n",
       "        103.32194995,  103.27278993,  106.04569464,  107.47757511,\n",
       "        108.12091895,  107.58899016,  107.23560809,  107.25849889,\n",
       "        107.84922355,  105.54712997,  104.91654086,  104.02533274,\n",
       "        103.3279301 ,  102.89894778,  103.14054125,  104.83464497,\n",
       "        103.67625499,  103.12987198,  103.20399209,  103.77819388,\n",
       "        105.16666267,  106.74494429,  105.99050835,  106.36473919,\n",
       "        106.80600094,  108.14642319,  108.22490573,  109.57039292,\n",
       "        109.00123252,  108.85095621,  109.74024342,  109.40224277,\n",
       "        110.50023419,  109.56303089,  110.34494796,  111.20126652,\n",
       "        114.0960068 ,  112.84250023,  113.72670851,  114.05498612,\n",
       "        115.06530844,  113.860068  ,  114.68746648,  114.27199502,\n",
       "        114.43962172,  116.33389841,  117.30391809,  117.31283014,\n",
       "        120.18501281,  121.0721188 ,  119.69120882,  119.53163146,\n",
       "        120.28671304,  118.08191052,  118.27164684,  117.22244366,\n",
       "        119.67618805,  117.85978729,  118.7426454 ,  120.14899815,\n",
       "        119.12959576,  119.32504671,  119.04309463,  116.42700375,\n",
       "        117.12284486,  116.20572255,  116.4526917 ,  115.46473615,\n",
       "        114.97172109,  115.48507634,  114.52617152,  113.89215567,\n",
       "        114.01895325,  113.6149982 ,  112.85901941,  111.76979883])"
      ]
     },
     "execution_count": 17,
     "metadata": {},
     "output_type": "execute_result"
    }
   ],
   "source": [
    "get_prices(get_simret())"
   ]
  },
  {
   "cell_type": "code",
   "execution_count": 20,
   "metadata": {
    "collapsed": true
   },
   "outputs": [],
   "source": [
    "def ret_buynhold(get_ret, init_balance=100.):\n",
    "    \"\"\"Calculate total return with buy-and-hold strategy.\n",
    "       \n",
    "       We assume that the buy happens at the get_ret()[0] price.\n",
    "    \"\"\"\n",
    "    prices = get_prices(get_ret())\n",
    "    return (prices[-1]-prices[0])/init_balance"
   ]
  },
  {
   "cell_type": "code",
   "execution_count": 21,
   "metadata": {
    "collapsed": false
   },
   "outputs": [
    {
     "data": {
      "text/plain": [
       "0.047631731624976366"
      ]
     },
     "execution_count": 21,
     "metadata": {},
     "output_type": "execute_result"
    }
   ],
   "source": [
    "ret_buynhold(get_simret)"
   ]
  },
  {
   "cell_type": "code",
   "execution_count": 22,
   "metadata": {
    "collapsed": true
   },
   "outputs": [],
   "source": [
    "def ret_contra(get_ret, streak, init_balance=100.):\n",
    "    \"\"\"Trade counter trend after the given number of subsequent trending days ('streak').\"\"\"\n",
    "    if (streak < 1):\n",
    "        return 0.0  # no trades\n",
    "    sim = get_ret()\n",
    "    prices = get_prices(get_ret())\n",
    "    n = len(sim)\n",
    "    balance = init_balance\n",
    "    held = 0.0\n",
    "    for i in range(streak-1, n):\n",
    "        if max(sim[i-streak+1:i+1]) < 1.0: # streak consequtive losses - buy if not held\n",
    "            if held == 0:\n",
    "                balance -= prices[i]\n",
    "                held += 1\n",
    "        elif min(sim[i-streak+1:i+1]) > 1.0: # streak consequtive gains - sell if held\n",
    "            if held == 1:\n",
    "                balance += prices[i]\n",
    "                held -= 1\n",
    "    return (held*prices[-1] + balance - init_balance)/init_balance"
   ]
  },
  {
   "cell_type": "code",
   "execution_count": 23,
   "metadata": {
    "collapsed": false
   },
   "outputs": [
    {
     "data": {
      "text/plain": [
       "0.0083548680756952362"
      ]
     },
     "execution_count": 23,
     "metadata": {},
     "output_type": "execute_result"
    }
   ],
   "source": [
    "ret_contra(get_simret, 3)"
   ]
  },
  {
   "cell_type": "markdown",
   "metadata": {},
   "source": [
    "Let's compare average results for both strategies."
   ]
  },
  {
   "cell_type": "code",
   "execution_count": 24,
   "metadata": {
    "collapsed": true
   },
   "outputs": [],
   "source": [
    "def aver(f, repeat=1000):\n",
    "    s = 0.0\n",
    "    for i in range(repeat):\n",
    "        s += f()\n",
    "    return s/repeat"
   ]
  },
  {
   "cell_type": "code",
   "execution_count": 25,
   "metadata": {
    "collapsed": false
   },
   "outputs": [
    {
     "data": {
      "text/plain": [
       "(0.10669053455184395, 0.040591435503252796)"
      ]
     },
     "execution_count": 25,
     "metadata": {},
     "output_type": "execute_result"
    }
   ],
   "source": [
    "aver(lambda: ret_buynhold(get_simret)), aver(lambda: ret_contra(get_simret, 3))"
   ]
  },
  {
   "cell_type": "markdown",
   "metadata": {},
   "source": [
    "It looks like the counter-trend trading is much worse than buy and hold!"
   ]
  },
  {
   "cell_type": "code",
   "execution_count": null,
   "metadata": {
    "collapsed": true
   },
   "outputs": [],
   "source": []
  }
 ],
 "metadata": {
  "kernelspec": {
   "display_name": "Python 3",
   "language": "python",
   "name": "python3"
  },
  "language_info": {
   "codemirror_mode": {
    "name": "ipython",
    "version": 3
   },
   "file_extension": ".py",
   "mimetype": "text/x-python",
   "name": "python",
   "nbconvert_exporter": "python",
   "pygments_lexer": "ipython3",
   "version": "3.5.1"
  }
 },
 "nbformat": 4,
 "nbformat_minor": 0
}
