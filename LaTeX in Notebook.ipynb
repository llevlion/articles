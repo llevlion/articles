{
 "cells": [
  {
   "cell_type": "markdown",
   "metadata": {},
   "source": [
    "LaTeX can be included in Markdown cells _inline_ ``($...$)``: $\\alpha+\\beta=\\gamma$  or _displayed_ ``($$...$$)``: $$Q_1=B_2$$ Below is nice matrix equation:"
   ]
  },
  {
   "cell_type": "markdown",
   "metadata": {
    "collapsed": true
   },
   "source": [
    "$$\\begin{equation}\n",
    "A_{m,n} =\n",
    "\\begin{pmatrix}\n",
    "a_{1,1} & a_{1,2} & \\cdots & a_{1,n} \\\\\n",
    "a_{2,1} & a_{2,2} & \\cdots & a_{2,n} \\\\\n",
    "\\vdots  & \\vdots  & \\ddots & \\vdots  \\\\\n",
    "a_{m,1} & a_{m,2} & \\cdots & a_{m,n}\n",
    "\\end{pmatrix}\\tag{Eq. 1}\n",
    "\\end{equation}$$\n",
    "$$$$"
   ]
  },
  {
   "cell_type": "markdown",
   "metadata": {},
   "source": [
    "LaTeX can also be rendered from Code cells:"
   ]
  },
  {
   "cell_type": "code",
   "execution_count": 2,
   "metadata": {
    "collapsed": false
   },
   "outputs": [
    {
     "data": {
      "text/latex": [
       "Here is an aligned set of equations:\n",
       "\\begin{align}\n",
       "a&=b+c\\tag{a}\\\\\n",
       "d&=e+f+g\\tag{b}\\\\\n",
       "h&=i+j\\tag{c}\n",
       "\\end{align}\n",
       "Here is some text to avoid the cell scrollbar :("
      ],
      "text/plain": [
       "<IPython.core.display.Latex object>"
      ]
     },
     "metadata": {},
     "output_type": "display_data"
    }
   ],
   "source": [
    "%%latex\n",
    "Here is an aligned set of equations:\n",
    "\\begin{align}\n",
    "a&=b+c\\tag{a}\\\\\n",
    "d&=e+f+g\\tag{b}\\\\\n",
    "h&=i+j\\tag{c}\n",
    "\\end{align}\n",
    "Here is some text to avoid the cell scrollbar :("
   ]
  }
 ],
 "metadata": {
  "kernelspec": {
   "display_name": "Python 3",
   "language": "python",
   "name": "python3"
  },
  "language_info": {
   "codemirror_mode": {
    "name": "ipython",
    "version": 3
   },
   "file_extension": ".py",
   "mimetype": "text/x-python",
   "name": "python",
   "nbconvert_exporter": "python",
   "pygments_lexer": "ipython3",
   "version": "3.5.1"
  }
 },
 "nbformat": 4,
 "nbformat_minor": 0
}
