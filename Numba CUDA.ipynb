{
 "cells": [
  {
   "cell_type": "markdown",
   "metadata": {},
   "source": [
    "# Numba vs. NumPy and Nvidia vs. Intel"
   ]
  },
  {
   "cell_type": "code",
   "execution_count": 1,
   "metadata": {
    "collapsed": false
   },
   "outputs": [],
   "source": [
    "import math\n",
    "import numpy as np\n",
    "from numba import jit, cuda"
   ]
  },
  {
   "cell_type": "code",
   "execution_count": 2,
   "metadata": {
    "collapsed": false,
    "scrolled": true
   },
   "outputs": [
    {
     "name": "stdout",
     "output_type": "stream",
     "text": [
      "Found 1 CUDA devices\n",
      "id 0         b'Quadro K2200'                              [SUPPORTED]\n",
      "                      compute capability: 5.0\n",
      "                           pci device id: 0\n",
      "                              pci bus id: 1\n",
      "Summary:\n",
      "\t1/1 devices are supported\n"
     ]
    }
   ],
   "source": [
    "if cuda.is_available():\n",
    "    cuda.detect()"
   ]
  },
  {
   "cell_type": "code",
   "execution_count": 3,
   "metadata": {
    "collapsed": false
   },
   "outputs": [
    {
     "name": "stdout",
     "output_type": "stream",
     "text": [
      "Intel64 Family 6 Model 42 Stepping 7, GenuineIntel\n"
     ]
    }
   ],
   "source": [
    "import platform\n",
    "print(platform.processor())"
   ]
  },
  {
   "cell_type": "code",
   "execution_count": 4,
   "metadata": {
    "collapsed": false
   },
   "outputs": [],
   "source": [
    "n = 10000000\n",
    "a = np.arange(1, n+1, dtype=np.float64)\n",
    "b = np.arange(n+1, 1, -1, dtype=np.float64)\n",
    "result = np.zeros(n, dtype=np.float64)"
   ]
  },
  {
   "cell_type": "code",
   "execution_count": 5,
   "metadata": {
    "collapsed": false
   },
   "outputs": [
    {
     "name": "stdout",
     "output_type": "stream",
     "text": [
      "1 loop, best of 3: 845 ms per loop\n"
     ]
    }
   ],
   "source": [
    "def calc_numpy(a, b):\n",
    "    return np.sqrt(np.abs(np.exp(np.log(a)+np.log(b))))\n",
    "\n",
    "%timeit global r_numpy; r_numpy = calc_numpy(a, b)"
   ]
  },
  {
   "cell_type": "code",
   "execution_count": 6,
   "metadata": {
    "collapsed": false
   },
   "outputs": [
    {
     "name": "stdout",
     "output_type": "stream",
     "text": [
      "1 loop, best of 3: 639 ms per loop\n"
     ]
    }
   ],
   "source": [
    "@jit\n",
    "def calc_c(x, y):\n",
    "    return math.sqrt(abs(math.exp(math.log(x)+math.log(y))))\n",
    "\n",
    "@jit\n",
    "def calc_numba(a,b, result, n):\n",
    "     for i in range(n):\n",
    "        result[i] = calc_c(a[i], b[i]) \n",
    "        \n",
    "%timeit calc_numba(a, b, result, n)\n",
    "r_numba = np.copy(result)"
   ]
  },
  {
   "cell_type": "code",
   "execution_count": 7,
   "metadata": {
    "collapsed": false
   },
   "outputs": [
    {
     "name": "stdout",
     "output_type": "stream",
     "text": [
      "The slowest run took 13.17 times longer than the fastest. This could mean that an intermediate result is being cached.\n",
      "1 loop, best of 3: 251 ms per loop\n"
     ]
    }
   ],
   "source": [
    "@cuda.jit(device=True)\n",
    "def calc_device(x, y):\n",
    "    return math.sqrt(abs(math.exp(math.log(x)+math.log(y))))\n",
    "\n",
    "@cuda.jit\n",
    "def calc_cuda(a, b, result, n):\n",
    "    tx = cuda.threadIdx.x\n",
    "    bx = cuda.blockIdx.x\n",
    "    bsz = cuda.blockDim.x\n",
    "    i = tx + bx * bsz\n",
    "    if i < n:\n",
    "        result[i] = calc_device(a[i], b[i])\n",
    "\n",
    "if cuda.is_available():    \n",
    "    %timeit calc_cuda[(n+1023)//1024, 1024](a, b, result, n)\n",
    "    r_cuda = np.copy(result)"
   ]
  },
  {
   "cell_type": "markdown",
   "metadata": {},
   "source": [
    "The arrays calculated on CPU and GPU are not precisely equal! "
   ]
  },
  {
   "cell_type": "code",
   "execution_count": 8,
   "metadata": {
    "collapsed": false
   },
   "outputs": [
    {
     "name": "stdout",
     "output_type": "stream",
     "text": [
      "True True\n"
     ]
    }
   ],
   "source": [
    "print(np.array_equal(r_numpy, r_numba), np.allclose(r_numpy, r_numba)) "
   ]
  },
  {
   "cell_type": "code",
   "execution_count": 9,
   "metadata": {
    "collapsed": false
   },
   "outputs": [
    {
     "name": "stdout",
     "output_type": "stream",
     "text": [
      "False True\n"
     ]
    }
   ],
   "source": [
    "if cuda.is_available():\n",
    "    print(np.array_equal(r_numba, r_cuda), np.allclose(r_numba, r_cuda))"
   ]
  },
  {
   "cell_type": "code",
   "execution_count": null,
   "metadata": {
    "collapsed": true
   },
   "outputs": [],
   "source": []
  }
 ],
 "metadata": {
  "anaconda-cloud": {},
  "kernelspec": {
   "display_name": "Python [default]",
   "language": "python",
   "name": "python3"
  },
  "language_info": {
   "codemirror_mode": {
    "name": "ipython",
    "version": 3
   },
   "file_extension": ".py",
   "mimetype": "text/x-python",
   "name": "python",
   "nbconvert_exporter": "python",
   "pygments_lexer": "ipython3",
   "version": "3.5.2"
  }
 },
 "nbformat": 4,
 "nbformat_minor": 0
}
