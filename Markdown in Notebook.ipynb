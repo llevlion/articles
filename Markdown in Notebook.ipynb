{
 "cells": [
  {
   "cell_type": "markdown",
   "metadata": {},
   "source": [
    "Markdown cells allow for simple formatting using Markdown plain-text conventions:\n",
    "# Heading1\n",
    "## Heading2\n",
    "### Heading3\n",
    "\n",
    "_Emphasis_ __Strong__ ``Inline code`` (line ends in double space to force linebreeak)  \n",
    "```    \n",
    "    Blockquote code\n",
    "    does not need double space for linebreak\n",
    "```\n",
    "Here is a list of hyperlinks for more info on Markdown:\n",
    "- [John Gruber's page](http://daringfireball.net/projects/markdown/syntax) \n",
    "- http://en.wikipedia.org/wiki/Markdown\n",
    "\n",
    "Lists can be autonumbered and nested (4-space indent indicates next level):\n",
    "1. Item1\n",
    "     1. Subitem1\n",
    "     2. Subitem2\n",
    "         1. Subsubitem1\n",
    "         2. Subsubitem2\n",
    "             1. Subsubsubitem1\n",
    "             2. Subsubsubitem2\n",
    "2. Item2"
   ]
  },
  {
   "cell_type": "markdown",
   "metadata": {},
   "source": [
    "More elaborate formatting can be achieved by embedding HTML:<div style=\"color:red\">This is a red div!</div> "
   ]
  }
 ],
 "metadata": {
  "kernelspec": {
   "display_name": "Python 3",
   "language": "python",
   "name": "python3"
  },
  "language_info": {
   "codemirror_mode": {
    "name": "ipython",
    "version": 3
   },
   "file_extension": ".py",
   "mimetype": "text/x-python",
   "name": "python",
   "nbconvert_exporter": "python",
   "pygments_lexer": "ipython3",
   "version": "3.5.1"
  }
 },
 "nbformat": 4,
 "nbformat_minor": 0
}
